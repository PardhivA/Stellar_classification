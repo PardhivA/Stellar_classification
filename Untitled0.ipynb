{
  "cells": [
    {
      "cell_type": "markdown",
      "metadata": {
        "id": "view-in-github",
        "colab_type": "text"
      },
      "source": [
        "<a href=\"https://colab.research.google.com/github/PardhivA/Stellar_classification/blob/main/Untitled0.ipynb\" target=\"_parent\"><img src=\"https://colab.research.google.com/assets/colab-badge.svg\" alt=\"Open In Colab\"/></a>"
      ]
    },
    {
      "cell_type": "code",
      "execution_count": 1,
      "metadata": {
        "id": "UWCVfWSmEKn4"
      },
      "outputs": [],
      "source": [
        "import numpy as np\n",
        "import pandas as pd\n",
        "import matplotlib.pyplot as plt\n",
        "from sklearn.ensemble import RandomForestClassifier\n",
        "from sklearn.preprocessing import StandardScaler\n",
        "from sklearn.metrics import accuracy_score, confusion_matrix, classification_report, f1_score\n",
        "from sklearn.model_selection import RandomizedSearchCV\n",
        "import seaborn as sns"
      ]
    },
    {
      "cell_type": "code",
      "execution_count": 6,
      "metadata": {
        "id": "acsNg59JFcG-"
      },
      "outputs": [],
      "source": [
        "df = pd.read_csv('/star_classification 2.csv')"
      ]
    },
    {
      "cell_type": "code",
      "execution_count": 7,
      "metadata": {
        "id": "xAie5BFaGoyT"
      },
      "outputs": [],
      "source": [
        "from sklearn.model_selection import train_test_split\n",
        "df['class'] = pd.factorize(df['class'])[0]\n",
        "X = df.drop([\"class\"], axis=1)\n",
        "y = df['class']\n",
        "sc = StandardScaler()\n",
        "X = sc.fit_transform(X)\n",
        "X_train, X_test, y_train, y_test = train_test_split(X, y, test_size=0.15, random_state=42)\n"
      ]
    },
    {
      "cell_type": "code",
      "execution_count": 8,
      "metadata": {
        "id": "dbd8IQhBI41B",
        "colab": {
          "base_uri": "https://localhost:8080/"
        },
        "outputId": "ddea95b0-6842-4e6d-ff27-6ad25625eaaa"
      },
      "outputs": [
        {
          "output_type": "stream",
          "name": "stdout",
          "text": [
            "accuracy =  0.9772\n"
          ]
        }
      ],
      "source": [
        "clsf = RandomForestClassifier(n_jobs=2,max_depth = 21,min_samples_leaf = 3,min_samples_split = 5, n_estimators = 78, random_state=42)\n",
        "clsf.fit(X_train,y_train)\n",
        "preds = clsf.predict(X_test)\n",
        "print('accuracy = ',accuracy_score(preds,y_test))"
      ]
    },
    {
      "cell_type": "code",
      "execution_count": 9,
      "metadata": {
        "colab": {
          "base_uri": "https://localhost:8080/"
        },
        "id": "MgRJ_VmsMyop",
        "outputId": "07cc8f48-367e-41a0-8bc2-5e3ffa2d0ea0"
      },
      "outputs": [
        {
          "output_type": "execute_result",
          "data": {
            "text/plain": [
              "array([[49785,   547,   230],\n",
              "       [ 1112, 14988,     2],\n",
              "       [   14,     0, 18322]])"
            ]
          },
          "metadata": {},
          "execution_count": 9
        }
      ],
      "source": [
        "from sklearn.model_selection import cross_val_predict\n",
        "y_train_pred = cross_val_predict(clsf, X_train, y_train, cv=3)  \n",
        "# Constructing the confusion matrix.\n",
        "from sklearn.metrics import confusion_matrix\n",
        "confusion_matrix(y_train, y_train_pred)\n",
        "#(n_jobs=2,max_depth = 20,min_samples_leaf = 2,min_samples_split = 6, n_estimators = 79, random_state=42)\n"
      ]
    },
    {
      "cell_type": "markdown",
      "metadata": {
        "id": "ZJC6lv75oqMy"
      },
      "source": [
        "Finding best parameters using Random Search for RFC"
      ]
    },
    {
      "cell_type": "code",
      "execution_count": null,
      "metadata": {
        "id": "I78ntCIfjir9",
        "colab": {
          "base_uri": "https://localhost:8080/"
        },
        "outputId": "890de2fd-77b3-46cc-caa8-0894b955ec65"
      },
      "outputs": [
        {
          "output_type": "stream",
          "name": "stdout",
          "text": [
            "Fitting 10 folds for each of 100 candidates, totalling 1000 fits\n"
          ]
        }
      ],
      "source": [
        "clsf = RandomForestClassifier(n_jobs=2, random_state=42)\n",
        "hyperparameters = {'max_features':[None, 'auto', 'sqrt', 'log2'],\n",
        "                   'max_depth':[None, 1, 5, 10, 15, 20],\n",
        "                   'min_samples_leaf': [1, 2, 4],\n",
        "                   'min_samples_split': [2, 5, 10],\n",
        "                   'n_estimators': [int(x) for x in np.linspace(start = 10, stop = 100, num = 10)],\n",
        "                   'criterion': ['entropy']}\n",
        "rf_random = RandomizedSearchCV(clsf, hyperparameters, n_iter = 100, cv = 10, verbose=2, random_state=42, n_jobs = -1)\n",
        "rf_random.fit(X_train, y_train)\n",
        "rf_random.best_params_"
      ]
    },
    {
      "cell_type": "code",
      "source": [
        "clsf = RandomForestClassifier(n_jobs=2, random_state=42)\n",
        "from sklearn.model_selection import GridSearchCV\n",
        "hyperparameters = {'max_features':[None],\n",
        "                   'max_depth':[19, 20, 21],\n",
        "                   'min_samples_leaf': [1, 2, 3],\n",
        "                   'min_samples_split': [ 5, 6,7],\n",
        "                   'n_estimators': [79],\n",
        "                   'criterion': ['entropy']}\n",
        "rf_grid = GridSearchCV(clsf, hyperparameters, cv = 10, n_jobs = -1, verbose = 2)\n",
        "rf_grid.fit(X_train, y_train)"
      ],
      "metadata": {
        "id": "1zDK-twPwKyc"
      },
      "execution_count": null,
      "outputs": []
    },
    {
      "cell_type": "code",
      "source": [
        "rf_grid.best_params_"
      ],
      "metadata": {
        "id": "nf_hwzA4wy27"
      },
      "execution_count": null,
      "outputs": []
    }
  ],
  "metadata": {
    "colab": {
      "collapsed_sections": [],
      "provenance": [],
      "include_colab_link": true
    },
    "kernelspec": {
      "display_name": "Python 3",
      "name": "python3"
    },
    "language_info": {
      "name": "python"
    }
  },
  "nbformat": 4,
  "nbformat_minor": 0
}